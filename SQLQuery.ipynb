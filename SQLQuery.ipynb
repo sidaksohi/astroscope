{
  "nbformat": 4,
  "nbformat_minor": 0,
  "metadata": {
    "colab": {
      "name": "SQLQuery.ipynb",
      "provenance": [],
      "collapsed_sections": [],
      "toc_visible": true,
      "include_colab_link": true
    },
    "kernelspec": {
      "name": "python3",
      "display_name": "Python 3"
    }
  },
  "cells": [
    {
      "cell_type": "markdown",
      "metadata": {
        "id": "view-in-github",
        "colab_type": "text"
      },
      "source": [
        "<a href=\"https://colab.research.google.com/github/sidaksohi/astroscope/blob/main/SQLQuery.ipynb\" target=\"_parent\"><img src=\"https://colab.research.google.com/assets/colab-badge.svg\" alt=\"Open In Colab\"/></a>"
      ]
    },
    {
      "cell_type": "markdown",
      "metadata": {
        "id": "XjF048Q717Ro"
      },
      "source": [
        "# Imports"
      ]
    },
    {
      "cell_type": "code",
      "metadata": {
        "id": "lzXbnwphMeVs"
      },
      "source": [
        "import sqlite3"
      ],
      "execution_count": 21,
      "outputs": []
    },
    {
      "cell_type": "code",
      "metadata": {
        "id": "OdG4iX9o7xTa"
      },
      "source": [
        "from datetime import date"
      ],
      "execution_count": 20,
      "outputs": []
    },
    {
      "cell_type": "markdown",
      "metadata": {
        "id": "FaKU3LTj1-HE"
      },
      "source": [
        "# SQL Connection"
      ]
    },
    {
      "cell_type": "code",
      "metadata": {
        "id": "LUHgjuzgM5JQ"
      },
      "source": [
        "conn = sqlite3.connect('celebrities.sqlite')\r\n",
        "cursor = conn.cursor()"
      ],
      "execution_count": 5,
      "outputs": []
    },
    {
      "cell_type": "markdown",
      "metadata": {
        "id": "ITq8RKBf2_gp"
      },
      "source": [
        "# Variables"
      ]
    },
    {
      "cell_type": "code",
      "metadata": {
        "id": "XyBCpk963B3J"
      },
      "source": [
        "mbit_distance = {\r\n",
        "  0: (0,1,2,3,4,5,6,7,8,7,6,5,4,3,2,1),\r\n",
        "  1: (1,0,1,2,3,4,5,6,7,8,7,6,5,4,3,2),\r\n",
        "  2: (2,1,0,1,2,3,4,5,6,7,8,7,6,5,4,3),\r\n",
        "  3: (3,2,1,0,1,2,3,4,5,6,7,8,7,6,5,4),\r\n",
        "  4: (4,3,2,1,0,1,2,3,4,5,6,7,8,7,6,5),\r\n",
        "  5: (5,4,3,2,1,0,1,2,3,4,5,6,7,8,7,6),\r\n",
        "  6: (6,5,4,3,2,1,0,1,2,3,4,5,6,7,8,7),\r\n",
        "  7: (7,6,5,4,3,2,1,0,1,2,3,4,5,6,7,8),\r\n",
        "  8: (8,7,6,5,4,3,2,1,0,1,2,3,4,5,6,7),\r\n",
        "  9: (7,8,7,6,5,4,3,2,1,0,1,2,3,4,5,6),\r\n",
        "  10: (6,7,8,7,6,5,4,3,2,1,0,1,2,3,4,5),\r\n",
        "  11: (5,6,7,8,7,6,5,4,3,2,1,0,1,2,3,4),\r\n",
        "  12: (4,5,6,7,8,7,6,5,4,3,2,1,0,1,2,3),\r\n",
        "  13: (3,4,5,6,7,8,7,6,5,4,3,2,1,0,1,2),\r\n",
        "  14: (2,3,4,5,6,7,8,7,6,5,4,3,2,1,0,1),\r\n",
        "  15: (1,2,3,4,5,6,7,8,7,6,5,4,3,2,1,0),\r\n",
        "}\r\n",
        "\r\n",
        "mbit_index = {\r\n",
        "  'ESFJ': 0,\r\n",
        "  'ISFJ': 1,\r\n",
        "  'ESTJ': 2,\r\n",
        "  'ISTJ': 3,\r\n",
        "  'ESFP': 4,\r\n",
        "  'ISFP': 5,\r\n",
        "  'ESTP': 6,\r\n",
        "  'ISTP': 7,\r\n",
        "  'INFJ': 8,\r\n",
        "  'ENFJ': 9,\r\n",
        "  'INFP': 10,\r\n",
        "  'ENFP': 11,\r\n",
        "  'INTJ': 12,\r\n",
        "  'ENTJ': 13,\r\n",
        "  'INTP': 14,\r\n",
        "  'ENTP': 15,\r\n",
        "}"
      ],
      "execution_count": 6,
      "outputs": []
    },
    {
      "cell_type": "code",
      "metadata": {
        "id": "pJ-uA-cRypSO"
      },
      "source": [
        "months = {\r\n",
        "    'January': '01',\r\n",
        "    'February': '02',\r\n",
        "    'March': '03',\r\n",
        "    'April': '04',\r\n",
        "    'May': '05',\r\n",
        "    'June': '06',\r\n",
        "    'July': '07',\r\n",
        "    'August': '08',\r\n",
        "    'September': '09',\r\n",
        "    'October': '10',\r\n",
        "    'November': '11',\r\n",
        "    'December': '12'\r\n",
        "}"
      ],
      "execution_count": 7,
      "outputs": []
    },
    {
      "cell_type": "markdown",
      "metadata": {
        "id": "VXOIvrPA114w"
      },
      "source": [
        "# Functions"
      ]
    },
    {
      "cell_type": "code",
      "metadata": {
        "id": "6AjSJTM99ULs"
      },
      "source": [
        "def distance_mbit(start, end):\r\n",
        "  #convert mbit to index using mbit_index\r\n",
        "  _start_ = mbit_index.get(str(start))\r\n",
        "  _end_ = mbit_index.get(str(end))\r\n",
        "\r\n",
        "  #use index to find distance using mbit_distance\r\n",
        "  distance = mbit_distance.get(_start_)[_end_]\r\n",
        "\r\n",
        "  #print\r\n",
        "  print(distance)\r\n",
        "\r\n",
        "#distance_mbit('INTJ', 'ESFJ')"
      ],
      "execution_count": 22,
      "outputs": []
    },
    {
      "cell_type": "code",
      "metadata": {
        "id": "06UrpPpP1UQX"
      },
      "source": [
        "def find_all():\r\n",
        "    cursor.execute(\"SELECT * FROM celebrities;\")\r\n",
        "    for row in cursor.fetchall():\r\n",
        "      print(row)"
      ],
      "execution_count": 9,
      "outputs": []
    },
    {
      "cell_type": "code",
      "metadata": {
        "id": "ubNv8bElP_dT"
      },
      "source": [
        "  def find_mbit(mbit):\r\n",
        "    string = \"SELECT name, mbit FROM celebrities WHERE mbit =\" + '\"' + str(mbit) + '\"' + \";\"\r\n",
        "    cursor.execute(string)\r\n",
        "    for row in cursor.fetchall():\r\n",
        "      print(row)"
      ],
      "execution_count": 10,
      "outputs": []
    },
    {
      "cell_type": "code",
      "metadata": {
        "id": "8VypEs18aq23"
      },
      "source": [
        "  def find_zodiac(zodiac):\r\n",
        "    string = \"SELECT name, zodiac FROM celebrities WHERE zodiac =\" + '\"' + str(zodiac) + '\"' + \";\"\r\n",
        "    cursor.execute(string)\r\n",
        "    for row in cursor.fetchall():\r\n",
        "      print(row)"
      ],
      "execution_count": 11,
      "outputs": []
    },
    {
      "cell_type": "code",
      "metadata": {
        "id": "wIl3HwENTTqN"
      },
      "source": [
        "def find_mbit_zodiac(mbit, zodiac):\r\n",
        "    query = \"SELECT popularity, name, birthmonthday, birthyear, birthplace, zodiac, mbit FROM celebrities WHERE mbit = '\" + str(mbit) + \"' AND zodiac ='\" + str(zodiac) + \"';\"\r\n",
        "    cursor.execute(query)\r\n",
        "    for row in cursor.fetchall():\r\n",
        "      row = str(row)\r\n",
        "      print(row)"
      ],
      "execution_count": 12,
      "outputs": []
    },
    {
      "cell_type": "code",
      "metadata": {
        "id": "fel7rWikxl_f"
      },
      "source": [
        "def find_twin_soul(mbit, zodiac, birthmonthday):\r\n",
        "    query = \"SELECT popularity, name, birthmonthday, birthyear, id FROM celebrities WHERE mbit = '\" + str(mbit) + \"' AND zodiac ='\" + str(zodiac) + \"';\"\r\n",
        "    cursor.execute(query)\r\n",
        "\r\n",
        "    #create results list\r\n",
        "    results = []\r\n",
        "    for row in cursor.fetchall():\r\n",
        "      results.append(list(row))\r\n",
        "\r\n",
        "    #make birthmonthday column alphabetizable, concat with birthyear\r\n",
        "    for i, row in enumerate(results):\r\n",
        "      data = row[2].split(' ')\r\n",
        "      month = months.get(data[0])\r\n",
        "      day = data[1]\r\n",
        "      year = row[3]\r\n",
        "      if len(day) < 2: day = '0'+ day\r\n",
        "      string = month + ' ' + day + ' ' + year\r\n",
        "      results[i][2] = string\r\n",
        "      del row[3]\r\n",
        "      \r\n",
        "    #add an empty row with the user birthmonthday column only\r\n",
        "    _birthmonthday_ = ['', '', str(birthmonthday), '']\r\n",
        "    results.append(_birthmonthday_)\r\n",
        "    \r\n",
        "    #sort by birthmonthday column\r\n",
        "    results.sort(key = lambda results: results[2])\r\n",
        "    \r\n",
        "    #get placeholder index, then delete placeholder. you now have the index of lowest popularity same day match    \r\n",
        "    for i, row in enumerate(results):\r\n",
        "      row[2] = row[2][:5]\r\n",
        "      if row[0] == '':\r\n",
        "        index = i\r\n",
        "        break\r\n",
        "    \r\n",
        "    top5 = []\r\n",
        "    sanity = 1\r\n",
        "\r\n",
        "    while len(top5) <= 5:\r\n",
        "      try:\r\n",
        "        top5.append(results[index+sanity])\r\n",
        "      except:\r\n",
        "        top5.append(results[index-sanity])\r\n",
        "      \r\n",
        "      try:\r\n",
        "        top5.append(results[index-sanity])\r\n",
        "      except:\r\n",
        "        top5.append(results[index+sanity])\r\n",
        "\r\n",
        "      sanity += 1\r\n",
        "\r\n",
        "\r\n",
        "    print('TOP 5')\r\n",
        "    for i, row in enumerate(top5):\r\n",
        "      print(row)"
      ],
      "execution_count": 121,
      "outputs": []
    },
    {
      "cell_type": "code",
      "metadata": {
        "colab": {
          "base_uri": "https://localhost:8080/"
        },
        "id": "5C5SVKhXFd-A",
        "outputId": "d5164109-5e74-4683-b23a-2cfb1352c2f6"
      },
      "source": [
        "find_twin_soul('INTJ','Capricorn','01 07 0000')"
      ],
      "execution_count": 122,
      "outputs": [
        {
          "output_type": "stream",
          "text": [
            "TOP 5\n",
            "['5', 'Stephen Hawking', '01 08 1942', '129']\n",
            "['25', 'Craig Revel Horwood', '01 04', '63']\n",
            "['8', 'Ryan Destiny', '01 08 1995', '131']\n",
            "['8', 'Isaac Newton', '01 04', '57']\n",
            "['46', 'Andrew Yang', '01 13 1975', '227']\n",
            "['19', 'Alex Ramos', '01 02', '24']\n"
          ],
          "name": "stdout"
        }
      ]
    },
    {
      "cell_type": "markdown",
      "metadata": {
        "id": "aN-ApdFz2FpZ"
      },
      "source": [
        "# Main"
      ]
    },
    {
      "cell_type": "code",
      "metadata": {
        "id": "3urKnw4y2Hq6",
        "colab": {
          "base_uri": "https://localhost:8080/",
          "height": 128
        },
        "outputId": "53b2ff48-6b19-415b-f404-68ce8de77bc2"
      },
      "source": [
        "#find_all()\r\n",
        "#find_mbit_zodiac('ESFJ', 'Sagittarius')\r\n",
        "#find_twin_soul('INTJ', 'Capricorn', 'December 7')\r\n"
      ],
      "execution_count": 126,
      "outputs": [
        {
          "output_type": "error",
          "ename": "SyntaxError",
          "evalue": "ignored",
          "traceback": [
            "\u001b[0;36m  File \u001b[0;32m\"<ipython-input-126-6d28f9d6467f>\"\u001b[0;36m, line \u001b[0;32m4\u001b[0m\n\u001b[0;31m    ls -al ~/.ssh/\u001b[0m\n\u001b[0m           ^\u001b[0m\n\u001b[0;31mSyntaxError\u001b[0m\u001b[0;31m:\u001b[0m invalid syntax\n"
          ]
        }
      ]
    },
    {
      "cell_type": "markdown",
      "metadata": {
        "id": "KJgWhs9c2JOc"
      },
      "source": [
        "# Parking Lot for Ideas"
      ]
    },
    {
      "cell_type": "markdown",
      "metadata": {
        "id": "_RkEAQ4X2MtH"
      },
      "source": [
        "**Miscellaneous ideas and comments can go here.**\r\n",
        "----------------------------------\r\n",
        "* create spatial map of celebrities\r\n",
        "* visualize map using a library (Folium,Seaborn, etc.)\r\n",
        "*\r\n",
        "*\r\n",
        "*\r\n",
        "*\r\n"
      ]
    }
  ]
}